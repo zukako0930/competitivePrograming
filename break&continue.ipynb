{
 "cells": [
  {
   "cell_type": "code",
   "execution_count": 10,
   "metadata": {
    "collapsed": false,
    "scrolled": false
   },
   "outputs": [
    {
     "name": "stdout",
     "output_type": "stream",
     "text": [
      "0\n",
      "5 times\n",
      "1\n",
      "odd\n",
      "2\n",
      "3\n",
      "odd\n",
      "4\n",
      "5\n",
      "odd\n",
      "5 times\n",
      "6\n",
      "7\n",
      "odd\n",
      "8\n",
      "9\n",
      "odd\n",
      "10\n",
      "5 times\n",
      "11\n",
      "odd\n",
      "12\n",
      "13\n",
      "odd\n",
      "13 times\n"
     ]
    }
   ],
   "source": [
    "for i in range(100):\n",
    "    print(i)\n",
    "    if i % 2 != 0:\n",
    "        print(\"odd\")\n",
    "    if i % 5 == 0:\n",
    "        print('5 times')\n",
    "        continue\n",
    "        print('aaa')\n",
    "    elif i % 13 == 0:\n",
    "        print('13 times')\n",
    "        break"
   ]
  },
  {
   "cell_type": "code",
   "execution_count": null,
   "metadata": {
    "collapsed": true
   },
   "outputs": [],
   "source": []
  }
 ],
 "metadata": {
  "kernelspec": {
   "display_name": "Python 3",
   "language": "python",
   "name": "python3"
  },
  "language_info": {
   "codemirror_mode": {
    "name": "ipython",
    "version": 3
   },
   "file_extension": ".py",
   "mimetype": "text/x-python",
   "name": "python",
   "nbconvert_exporter": "python",
   "pygments_lexer": "ipython3",
   "version": "3.5.1"
  }
 },
 "nbformat": 4,
 "nbformat_minor": 0
}

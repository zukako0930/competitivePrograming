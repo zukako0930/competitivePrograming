{
 "cells": [
  {
   "cell_type": "code",
   "execution_count": 5,
   "metadata": {
    "collapsed": true
   },
   "outputs": [],
   "source": [
    "import numpy as np"
   ]
  },
  {
   "cell_type": "code",
   "execution_count": 21,
   "metadata": {
    "collapsed": false
   },
   "outputs": [
    {
     "name": "stdout",
     "output_type": "stream",
     "text": [
      "A1 A3 08:22\n"
     ]
    }
   ],
   "source": [
    "text = input()"
   ]
  },
  {
   "cell_type": "code",
   "execution_count": 22,
   "metadata": {
    "collapsed": false
   },
   "outputs": [
    {
     "data": {
      "text/plain": [
       "['A1', 'A3', '08:22']"
      ]
     },
     "execution_count": 22,
     "metadata": {},
     "output_type": "execute_result"
    }
   ],
   "source": [
    "parse = text.split(' ')\n",
    "parse"
   ]
  },
  {
   "cell_type": "code",
   "execution_count": 23,
   "metadata": {
    "collapsed": false
   },
   "outputs": [],
   "source": [
    "dep = parse[0]\n",
    "des = parse[1]\n",
    "now = parse[2]\n",
    "now = now.split(':')"
   ]
  },
  {
   "cell_type": "code",
   "execution_count": 24,
   "metadata": {
    "collapsed": true
   },
   "outputs": [],
   "source": [
    "Acosts = [3,5,2,3,4,3,4,2,2,3,6,2]\n",
    "Bcosts = [4,3,3,2,3]"
   ]
  },
  {
   "cell_type": "code",
   "execution_count": 25,
   "metadata": {
    "collapsed": true
   },
   "outputs": [],
   "source": [
    "Astations = ['A1','A2','A3','A4','A5','A6','A7','A8','A9','A10','A11','A12','A13']\n",
    "Bstations = ['B1','B2','B3','B4','B5']"
   ]
  },
  {
   "cell_type": "code",
   "execution_count": 26,
   "metadata": {
    "collapsed": false
   },
   "outputs": [],
   "source": [
    "# 出発駅の路線を確定\n",
    "if dep[0] == 'A':\n",
    "    dep_idx = Astations.index(dep)\n",
    "    dep_line = 'A'\n",
    "else:\n",
    "    dep_idx = Bstations.index(dep)\n",
    "    dep_line = 'B'"
   ]
  },
  {
   "cell_type": "code",
   "execution_count": 27,
   "metadata": {
    "collapsed": false
   },
   "outputs": [],
   "source": [
    "# 到着駅の路線を確定\n",
    "if des[0] == 'A':\n",
    "    des_idx = Astations.index(des)\n",
    "    des_line = 'A'\n",
    "else:\n",
    "    des_idx = Bstations.index(des)\n",
    "    des_line = 'B'"
   ]
  },
  {
   "cell_type": "code",
   "execution_count": 28,
   "metadata": {
    "collapsed": false
   },
   "outputs": [
    {
     "name": "stdout",
     "output_type": "stream",
     "text": [
      "dep:Aの1\n",
      "des:Aの3\n"
     ]
    }
   ],
   "source": [
    "dep_sta_num = int(dep.replace(dep[0],''))\n",
    "des_sta_num = int(des.replace(des[0],''))\n",
    "print('dep:{}の{}'.format(dep_line,dep_sta_num))\n",
    "print('des:{}の{}'.format(des_line,des_sta_num))"
   ]
  },
  {
   "cell_type": "code",
   "execution_count": 29,
   "metadata": {
    "collapsed": false
   },
   "outputs": [
    {
     "ename": "SyntaxError",
     "evalue": "unexpected EOF while parsing (<ipython-input-29-633d97b15f6c>, line 2)",
     "output_type": "error",
     "traceback": [
      "\u001b[0;36m  File \u001b[0;32m\"<ipython-input-29-633d97b15f6c>\"\u001b[0;36m, line \u001b[0;32m2\u001b[0m\n\u001b[0;31m    if dep_sta_num<7:\u001b[0m\n\u001b[0m                     ^\u001b[0m\n\u001b[0;31mSyntaxError\u001b[0m\u001b[0;31m:\u001b[0m unexpected EOF while parsing\n"
     ]
    }
   ],
   "source": [
    "# 上り下りを判定\n",
    "if dep_sta_num<7:\n"
   ]
  },
  {
   "cell_type": "code",
   "execution_count": 30,
   "metadata": {
    "collapsed": false,
    "scrolled": true
   },
   "outputs": [],
   "source": [
    "# 時刻表を作成\n",
    "ATimeTableonA1 = []\n",
    "clock = 5\n",
    "for i in range(1000):\n",
    "    if (55+i*5)%60 == 0:\n",
    "        clock +=1\n",
    "    if clock == 23: break\n",
    "    ATimeTableonA1.append(clock*100+(55+i*5)%60)\n",
    "#     print(clock,(55+i*5)%60)\n",
    "# ATimeTableonA1"
   ]
  },
  {
   "cell_type": "code",
   "execution_count": 31,
   "metadata": {
    "collapsed": false,
    "scrolled": true
   },
   "outputs": [
    {
     "data": {
      "text/plain": [
       "array([ 555,  600,  605,  610,  615,  620,  625,  630,  635,  640,  645,\n",
       "        650,  655,  700,  705,  710,  715,  720,  725,  730,  735,  740,\n",
       "        745,  750,  755,  800,  805,  810,  815,  820,  825,  830,  835,\n",
       "        840,  845,  850,  855,  900,  905,  910,  915,  920,  925,  930,\n",
       "        935,  940,  945,  950,  955, 1000, 1005, 1010, 1015, 1020, 1025,\n",
       "       1030, 1035, 1040, 1045, 1050, 1055, 1100, 1105, 1110, 1115, 1120,\n",
       "       1125, 1130, 1135, 1140, 1145, 1150, 1155, 1200, 1205, 1210, 1215,\n",
       "       1220, 1225, 1230, 1235, 1240, 1245, 1250, 1255, 1300, 1305, 1310,\n",
       "       1315, 1320, 1325, 1330, 1335, 1340, 1345, 1350, 1355, 1400, 1405,\n",
       "       1410, 1415, 1420, 1425, 1430, 1435, 1440, 1445, 1450, 1455, 1500,\n",
       "       1505, 1510, 1515, 1520, 1525, 1530, 1535, 1540, 1545, 1550, 1555,\n",
       "       1600, 1605, 1610, 1615, 1620, 1625, 1630, 1635, 1640, 1645, 1650,\n",
       "       1655, 1700, 1705, 1710, 1715, 1720, 1725, 1730, 1735, 1740, 1745,\n",
       "       1750, 1755, 1800, 1805, 1810, 1815, 1820, 1825, 1830, 1835, 1840,\n",
       "       1845, 1850, 1855, 1900, 1905, 1910, 1915, 1920, 1925, 1930, 1935,\n",
       "       1940, 1945, 1950, 1955, 2000, 2005, 2010, 2015, 2020, 2025, 2030,\n",
       "       2035, 2040, 2045, 2050, 2055, 2100, 2105, 2110, 2115, 2120, 2125,\n",
       "       2130, 2135, 2140, 2145, 2150, 2155, 2200, 2205, 2210, 2215, 2220,\n",
       "       2225, 2230, 2235, 2240, 2245, 2250, 2255])"
      ]
     },
     "execution_count": 31,
     "metadata": {},
     "output_type": "execute_result"
    }
   ],
   "source": [
    "# 候補一覧\n",
    "candidates = np.array(ATimeTableonA1)+np.array(sum(Acosts[:dep_idx]))\n",
    "candidates"
   ]
  },
  {
   "cell_type": "code",
   "execution_count": 32,
   "metadata": {
    "collapsed": false
   },
   "outputs": [],
   "source": [
    "now = int(now[0])*100+int(now[1])"
   ]
  },
  {
   "cell_type": "code",
   "execution_count": 33,
   "metadata": {
    "collapsed": false
   },
   "outputs": [
    {
     "data": {
      "text/plain": [
       "array([-267, -222, -217, -212, -207, -202, -197, -192, -187, -182, -177,\n",
       "       -172, -167, -122, -117, -112, -107, -102,  -97,  -92,  -87,  -82,\n",
       "        -77,  -72,  -67,  -22,  -17,  -12,   -7,   -2,    3,    8,   13,\n",
       "         18,   23,   28,   33,   78,   83,   88,   93,   98,  103,  108,\n",
       "        113,  118,  123,  128,  133,  178,  183,  188,  193,  198,  203,\n",
       "        208,  213,  218,  223,  228,  233,  278,  283,  288,  293,  298,\n",
       "        303,  308,  313,  318,  323,  328,  333,  378,  383,  388,  393,\n",
       "        398,  403,  408,  413,  418,  423,  428,  433,  478,  483,  488,\n",
       "        493,  498,  503,  508,  513,  518,  523,  528,  533,  578,  583,\n",
       "        588,  593,  598,  603,  608,  613,  618,  623,  628,  633,  678,\n",
       "        683,  688,  693,  698,  703,  708,  713,  718,  723,  728,  733,\n",
       "        778,  783,  788,  793,  798,  803,  808,  813,  818,  823,  828,\n",
       "        833,  878,  883,  888,  893,  898,  903,  908,  913,  918,  923,\n",
       "        928,  933,  978,  983,  988,  993,  998, 1003, 1008, 1013, 1018,\n",
       "       1023, 1028, 1033, 1078, 1083, 1088, 1093, 1098, 1103, 1108, 1113,\n",
       "       1118, 1123, 1128, 1133, 1178, 1183, 1188, 1193, 1198, 1203, 1208,\n",
       "       1213, 1218, 1223, 1228, 1233, 1278, 1283, 1288, 1293, 1298, 1303,\n",
       "       1308, 1313, 1318, 1323, 1328, 1333, 1378, 1383, 1388, 1393, 1398,\n",
       "       1403, 1408, 1413, 1418, 1423, 1428, 1433])"
      ]
     },
     "execution_count": 33,
     "metadata": {},
     "output_type": "execute_result"
    }
   ],
   "source": [
    "candidates - now"
   ]
  },
  {
   "cell_type": "code",
   "execution_count": 34,
   "metadata": {
    "collapsed": false
   },
   "outputs": [
    {
     "data": {
      "text/plain": [
       "825"
      ]
     },
     "execution_count": 34,
     "metadata": {},
     "output_type": "execute_result"
    }
   ],
   "source": [
    "# 乗るべき時刻算出\n",
    "minimum =min([t for t in candidates-now if t > 0])\n",
    "deptime = candidates[list(candidates-now).index(minimum)]\n",
    "deptime"
   ]
  },
  {
   "cell_type": "markdown",
   "metadata": {},
   "source": [
    "上までの処理で標準入力から出発駅、現在時刻を算出し、次の電車の時刻の算出までできた。"
   ]
  },
  {
   "cell_type": "code",
   "execution_count": null,
   "metadata": {
    "collapsed": true
   },
   "outputs": [],
   "source": []
  }
 ],
 "metadata": {
  "kernelspec": {
   "display_name": "py35",
   "language": "python",
   "name": "py35"
  },
  "language_info": {
   "codemirror_mode": {
    "name": "ipython",
    "version": 3
   },
   "file_extension": ".py",
   "mimetype": "text/x-python",
   "name": "python",
   "nbconvert_exporter": "python",
   "pygments_lexer": "ipython3",
   "version": "3.5.4"
  }
 },
 "nbformat": 4,
 "nbformat_minor": 0
}

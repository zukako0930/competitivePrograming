{
 "cells": [
  {
   "cell_type": "code",
   "execution_count": 1,
   "metadata": {
    "collapsed": true
   },
   "outputs": [],
   "source": [
    "import numpy as np"
   ]
  },
  {
   "cell_type": "code",
   "execution_count": 2,
   "metadata": {},
   "outputs": [
    {
     "data": {
      "text/plain": [
       "'12364758993874672891210865367749'"
      ]
     },
     "execution_count": 2,
     "metadata": {},
     "output_type": "execute_result"
    }
   ],
   "source": [
    "data = [\n",
    "    '12364758993874672891210865367749',\n",
    "    '123454321678'\n",
    "]\n",
    "data[0]"
   ]
  },
  {
   "cell_type": "code",
   "execution_count": 3,
   "metadata": {
    "scrolled": false
   },
   "outputs": [
    {
     "name": "stdout",
     "output_type": "stream",
     "text": [
      "121\n",
      "123454321\n"
     ]
    }
   ],
   "source": [
    "def main(data):\n",
    "    reversible = []\n",
    "    revlen=[]\n",
    "    for i,v in enumerate(data):\n",
    "        for m in range(len(v)):\n",
    "            for n in range(len(v)-m):\n",
    "                substring = v[m:m+n]\n",
    "#                 print(substring,substring[::-1])\n",
    "                if substring == substring[::-1] and len(substring)>=1:\n",
    "                    reversible.append(substring)\n",
    "                    revlen.append(len(substring))\n",
    "#                     print(reversible)\n",
    "        maxidx = np.argmax(revlen)\n",
    "        print(reversible[maxidx] )\n",
    "#         return reversible[maxidx] \n",
    "\n",
    "if __name__ == '__main__' :\n",
    "    main(data)"
   ]
  },
  {
   "cell_type": "code",
   "execution_count": null,
   "metadata": {
    "collapsed": true
   },
   "outputs": [],
   "source": []
  }
 ],
 "metadata": {
  "kernelspec": {
   "display_name": "py35",
   "language": "python",
   "name": "py35"
  },
  "language_info": {
   "codemirror_mode": {
    "name": "ipython",
    "version": 3
   },
   "file_extension": ".py",
   "mimetype": "text/x-python",
   "name": "python",
   "nbconvert_exporter": "python",
   "pygments_lexer": "ipython3",
   "version": "3.5.4"
  }
 },
 "nbformat": 4,
 "nbformat_minor": 2
}
